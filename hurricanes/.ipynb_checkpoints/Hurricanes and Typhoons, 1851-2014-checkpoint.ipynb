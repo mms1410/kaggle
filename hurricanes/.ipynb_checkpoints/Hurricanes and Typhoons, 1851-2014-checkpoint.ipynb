{
 "cells": [
  {
   "cell_type": "code",
   "execution_count": 54,
   "id": "442e46a0",
   "metadata": {},
   "outputs": [],
   "source": [
    "import zipfile\n",
    "import os\n",
    "import load_kaggle.py"
   ]
  },
  {
   "cell_type": "code",
   "execution_count": 42,
   "id": "225ec6b4",
   "metadata": {},
   "outputs": [
    {
     "name": "stdout",
     "output_type": "stream",
     "text": [
      "data folder already exists\n",
      "/home/mms14/15_anaconda3/bin:/home/mms14/15_anaconda3/condabin:/usr/local/bin:/usr/bin:/bin:/usr/local/games:/usr/games\n"
     ]
    }
   ],
   "source": [
    "try:\n",
    "    os.mkdir('data')\n",
    "except:\n",
    "    print('data folder already exists')"
   ]
  },
  {
   "cell_type": "code",
   "execution_count": 43,
   "id": "b8ea05b4",
   "metadata": {},
   "outputs": [
    {
     "name": "stdout",
     "output_type": "stream",
     "text": [
      "Downloading hurricane-database.zip to data\n",
      "100%|████████████████████████████████████████| 901k/901k [00:00<00:00, 5.96MB/s]\n",
      "100%|████████████████████████████████████████| 901k/901k [00:00<00:00, 5.93MB/s]\n"
     ]
    }
   ],
   "source": [
    "!kaggle datasets download -d noaa/hurricane-database -p 'data'"
   ]
  },
  {
   "cell_type": "code",
   "execution_count": 69,
   "id": "9e57488d",
   "metadata": {},
   "outputs": [
    {
     "data": {
      "text/plain": [
       "'hurricane-database.zip'"
      ]
     },
     "execution_count": 69,
     "metadata": {},
     "output_type": "execute_result"
    }
   ],
   "source": [
    "os.listdir('data')[0]"
   ]
  },
  {
   "cell_type": "code",
   "execution_count": 66,
   "id": "54befb56",
   "metadata": {},
   "outputs": [
    {
     "data": {
      "text/plain": [
       "['atlantic.csv', 'atlantic.pdf', 'pacific.csv', 'pacific.pdf']"
      ]
     },
     "execution_count": 66,
     "metadata": {},
     "output_type": "execute_result"
    }
   ],
   "source": [
    "zipname = os.listdir('data')[0]\n",
    "zip_names = zipfile.ZipFile('data/' + zipname)\n",
    "zip_names.namelist()"
   ]
  }
 ],
 "metadata": {
  "kernelspec": {
   "display_name": "Python 3 (ipykernel)",
   "language": "python",
   "name": "python3"
  },
  "language_info": {
   "codemirror_mode": {
    "name": "ipython",
    "version": 3
   },
   "file_extension": ".py",
   "mimetype": "text/x-python",
   "name": "python",
   "nbconvert_exporter": "python",
   "pygments_lexer": "ipython3",
   "version": "3.8.8"
  }
 },
 "nbformat": 4,
 "nbformat_minor": 5
}
