{
 "cells": [
  {
   "cell_type": "code",
   "execution_count": 3,
   "id": "442e46a0",
   "metadata": {},
   "outputs": [
    {
     "ename": "ModuleNotFoundError",
     "evalue": "No module named 'load_kaggle'",
     "output_type": "error",
     "traceback": [
      "\u001b[0;31m---------------------------------------------------------------------------\u001b[0m",
      "\u001b[0;31mModuleNotFoundError\u001b[0m                       Traceback (most recent call last)",
      "\u001b[0;32m/tmp/ipykernel_51519/3882127099.py\u001b[0m in \u001b[0;36m<module>\u001b[0;34m\u001b[0m\n\u001b[1;32m      2\u001b[0m \u001b[0;32mimport\u001b[0m \u001b[0mos\u001b[0m\u001b[0;34m\u001b[0m\u001b[0;34m\u001b[0m\u001b[0m\n\u001b[1;32m      3\u001b[0m \u001b[0;32mimport\u001b[0m \u001b[0msys\u001b[0m\u001b[0;34m\u001b[0m\u001b[0;34m\u001b[0m\u001b[0m\n\u001b[0;32m----> 4\u001b[0;31m \u001b[0;32mimport\u001b[0m \u001b[0mload_kaggle\u001b[0m\u001b[0;34m.\u001b[0m\u001b[0mpy\u001b[0m\u001b[0;34m\u001b[0m\u001b[0;34m\u001b[0m\u001b[0m\n\u001b[0m",
      "\u001b[0;31mModuleNotFoundError\u001b[0m: No module named 'load_kaggle'"
     ]
    }
   ],
   "source": [
    "import zipfile\n",
    "import os\n",
    "import sys\n",
    "import load_kaggle.py"
   ]
  },
  {
   "cell_type": "code",
   "execution_count": 5,
   "id": "d6cc2b60",
   "metadata": {},
   "outputs": [
    {
     "name": "stdout",
     "output_type": "stream",
     "text": [
      "\r\n"
     ]
    }
   ],
   "source": [
    "!echo $PYTHONPATH"
   ]
  },
  {
   "cell_type": "code",
   "execution_count": 42,
   "id": "225ec6b4",
   "metadata": {},
   "outputs": [
    {
     "name": "stdout",
     "output_type": "stream",
     "text": [
      "data folder already exists\n",
      "/home/mms14/15_anaconda3/bin:/home/mms14/15_anaconda3/condabin:/usr/local/bin:/usr/bin:/bin:/usr/local/games:/usr/games\n"
     ]
    }
   ],
   "source": [
    "try:\n",
    "    os.mkdir('data')\n",
    "except:\n",
    "    print('data folder already exists')"
   ]
  },
  {
   "cell_type": "code",
   "execution_count": 43,
   "id": "b8ea05b4",
   "metadata": {},
   "outputs": [
    {
     "name": "stdout",
     "output_type": "stream",
     "text": [
      "Downloading hurricane-database.zip to data\n",
      "100%|████████████████████████████████████████| 901k/901k [00:00<00:00, 5.96MB/s]\n",
      "100%|████████████████████████████████████████| 901k/901k [00:00<00:00, 5.93MB/s]\n"
     ]
    }
   ],
   "source": [
    "!kaggle datasets download -d noaa/hurricane-database -p 'data'"
   ]
  },
  {
   "cell_type": "code",
   "execution_count": 69,
   "id": "9e57488d",
   "metadata": {},
   "outputs": [
    {
     "data": {
      "text/plain": [
       "'hurricane-database.zip'"
      ]
     },
     "execution_count": 69,
     "metadata": {},
     "output_type": "execute_result"
    }
   ],
   "source": [
    "os.listdir('data')[0]"
   ]
  },
  {
   "cell_type": "code",
   "execution_count": 66,
   "id": "54befb56",
   "metadata": {},
   "outputs": [
    {
     "data": {
      "text/plain": [
       "['atlantic.csv', 'atlantic.pdf', 'pacific.csv', 'pacific.pdf']"
      ]
     },
     "execution_count": 66,
     "metadata": {},
     "output_type": "execute_result"
    }
   ],
   "source": [
    "zipname = os.listdir('data')[0]\n",
    "zip_names = zipfile.ZipFile('data/' + zipname)\n",
    "zip_names.namelist()"
   ]
  }
 ],
 "metadata": {
  "kernelspec": {
   "display_name": "Python 3 (ipykernel)",
   "language": "python",
   "name": "python3"
  },
  "language_info": {
   "codemirror_mode": {
    "name": "ipython",
    "version": 3
   },
   "file_extension": ".py",
   "mimetype": "text/x-python",
   "name": "python",
   "nbconvert_exporter": "python",
   "pygments_lexer": "ipython3",
   "version": "3.8.8"
  }
 },
 "nbformat": 4,
 "nbformat_minor": 5
}
